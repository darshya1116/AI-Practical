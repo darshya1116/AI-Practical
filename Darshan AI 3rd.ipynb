{
 "cells": [
  {
   "cell_type": "code",
   "execution_count": 1,
   "id": "4eaf561c-9132-4054-9e15-33271314e492",
   "metadata": {},
   "outputs": [
    {
     "name": "stdout",
     "output_type": "stream",
     "text": [
      "\n",
      "--- Greedy Algorithm Menu ---\n",
      "1. Selection Sort\n",
      "2. Prim's Minimal Spanning Tree Algorithm\n",
      "3. Dijkstra's Single-Source Shortest Path\n",
      "4. Job Scheduling Problem\n",
      "5. Kruskal's Minimal Spanning Tree Algorithm\n",
      "6. Exit\n"
     ]
    },
    {
     "name": "stdin",
     "output_type": "stream",
     "text": [
      "\n",
      "Enter your choice (1-6):  1\n",
      "Enter the array elements for Selection Sort (space separated):  56 34 67 79 24 86 13\n"
     ]
    },
    {
     "name": "stdout",
     "output_type": "stream",
     "text": [
      "Selection Sort Result: [13, 24, 34, 56, 67, 79, 86]\n",
      "\n",
      "--- Greedy Algorithm Menu ---\n",
      "1. Selection Sort\n",
      "2. Prim's Minimal Spanning Tree Algorithm\n",
      "3. Dijkstra's Single-Source Shortest Path\n",
      "4. Job Scheduling Problem\n",
      "5. Kruskal's Minimal Spanning Tree Algorithm\n",
      "6. Exit\n"
     ]
    },
    {
     "name": "stdin",
     "output_type": "stream",
     "text": [
      "\n",
      "Enter your choice (1-6):  2\n",
      "\n",
      "Enter the number of nodes for Prim's MST:  4\n"
     ]
    },
    {
     "name": "stdout",
     "output_type": "stream",
     "text": [
      "Enter the graph as pairs (node, [(neighbor, weight)]):\n"
     ]
    },
    {
     "name": "stdin",
     "output_type": "stream",
     "text": [
      "Enter node:  A\n",
      "Enter edges for A (format: neighbor1 weight1, neighbor2 weight2,...):  B 1, C 4\n",
      "Enter node:  B\n",
      "Enter edges for B (format: neighbor1 weight1, neighbor2 weight2,...):  A 1, C 2, D 5\n",
      "Enter node:  C\n",
      "Enter edges for C (format: neighbor1 weight1, neighbor2 weight2,...):  A 4, B 2, D 1\n",
      "Enter node:  D\n",
      "Enter edges for D (format: neighbor1 weight1, neighbor2 weight2,...):  B 5, C 1\n"
     ]
    },
    {
     "name": "stdout",
     "output_type": "stream",
     "text": [
      "Prim's MST: [('A', 'B', 1), ('B', 'C', 2), ('C', 'D', 1)]\n",
      "\n",
      "--- Greedy Algorithm Menu ---\n",
      "1. Selection Sort\n",
      "2. Prim's Minimal Spanning Tree Algorithm\n",
      "3. Dijkstra's Single-Source Shortest Path\n",
      "4. Job Scheduling Problem\n",
      "5. Kruskal's Minimal Spanning Tree Algorithm\n",
      "6. Exit\n"
     ]
    },
    {
     "name": "stdin",
     "output_type": "stream",
     "text": [
      "\n",
      "Enter your choice (1-6):  3\n",
      "\n",
      "Enter the number of nodes for Dijkstra's Shortest Path:  3\n"
     ]
    },
    {
     "name": "stdout",
     "output_type": "stream",
     "text": [
      "Enter the graph as pairs (node, [(neighbor, weight)]):\n"
     ]
    },
    {
     "name": "stdin",
     "output_type": "stream",
     "text": [
      "Enter node:  A\n",
      "Enter edges for A (format: neighbor1 weight1, neighbor2 weight2,...):  A 1, B 4\n",
      "Enter node:  B\n",
      "Enter edges for B (format: neighbor1 weight1, neighbor2 weight2,...):  A 1, C 2\n",
      "Enter node:  C\n",
      "Enter edges for C (format: neighbor1 weight1, neighbor2 weight2,...):  A 4, B 2\n",
      "Enter the start node for Dijkstra's Shortest Path:  A\n"
     ]
    },
    {
     "name": "stdout",
     "output_type": "stream",
     "text": [
      "Dijkstra's Shortest Path Distances: {'A': 0, 'B': 4, 'C': 6}\n",
      "Dijkstra's Previous Nodes: {'A': None, 'B': 'A', 'C': 'B'}\n",
      "\n",
      "--- Greedy Algorithm Menu ---\n",
      "1. Selection Sort\n",
      "2. Prim's Minimal Spanning Tree Algorithm\n",
      "3. Dijkstra's Single-Source Shortest Path\n",
      "4. Job Scheduling Problem\n",
      "5. Kruskal's Minimal Spanning Tree Algorithm\n",
      "6. Exit\n"
     ]
    },
    {
     "name": "stdin",
     "output_type": "stream",
     "text": [
      "\n",
      "Enter your choice (1-6):  4\n",
      "\n",
      "Enter the number of jobs for Job Scheduling:  5\n",
      "Enter start and finish time for a job (space separated):  1 2 \n",
      "Enter start and finish time for a job (space separated):  2 3 \n",
      "Enter start and finish time for a job (space separated):  5 4 \n",
      "Enter start and finish time for a job (space separated):  2 1\n",
      "Enter start and finish time for a job (space separated):  5 3\n"
     ]
    },
    {
     "name": "stdout",
     "output_type": "stream",
     "text": [
      "Job Scheduling Result: [(2, 1), (1, 2), (2, 3), (5, 3), (5, 4)]\n",
      "\n",
      "--- Greedy Algorithm Menu ---\n",
      "1. Selection Sort\n",
      "2. Prim's Minimal Spanning Tree Algorithm\n",
      "3. Dijkstra's Single-Source Shortest Path\n",
      "4. Job Scheduling Problem\n",
      "5. Kruskal's Minimal Spanning Tree Algorithm\n",
      "6. Exit\n"
     ]
    },
    {
     "name": "stdin",
     "output_type": "stream",
     "text": [
      "\n",
      "Enter your choice (1-6):  5\n",
      "\n",
      "Enter the number of edges for Kruskal's MST:  4\n",
      "Enter edge (u, v, weight) (space separated):  0 1 1 \n",
      "Enter edge (u, v, weight) (space separated):  1 2 2\n",
      "Enter edge (u, v, weight) (space separated):  2 3 1\n",
      "Enter edge (u, v, weight) (space separated):  0 3 4\n",
      "Enter the number of nodes in the graph:  4\n"
     ]
    },
    {
     "name": "stdout",
     "output_type": "stream",
     "text": [
      "Kruskal's MST: [(0, 1, 1), (2, 3, 1), (1, 2, 2)]\n",
      "\n",
      "--- Greedy Algorithm Menu ---\n",
      "1. Selection Sort\n",
      "2. Prim's Minimal Spanning Tree Algorithm\n",
      "3. Dijkstra's Single-Source Shortest Path\n",
      "4. Job Scheduling Problem\n",
      "5. Kruskal's Minimal Spanning Tree Algorithm\n",
      "6. Exit\n"
     ]
    },
    {
     "name": "stdin",
     "output_type": "stream",
     "text": [
      "\n",
      "Enter your choice (1-6):  6\n"
     ]
    },
    {
     "name": "stdout",
     "output_type": "stream",
     "text": [
      "Exiting the program...\n"
     ]
    }
   ],
   "source": [
    "import heapq\n",
    "def selection_sort(arr):\n",
    "    n = len(arr)\n",
    "    for i in range(n):\n",
    "        min_index = i\n",
    "        for j in range(i + 1, n):\n",
    "            if arr[j] < arr[min_index]:\n",
    "                min_index = j\n",
    "        arr[i], arr[min_index] = arr[min_index], arr[i]\n",
    "    return arr\n",
    "    \n",
    "def prim_mst(graph):\n",
    "    start_node = list(graph.keys())[0]\n",
    "    visited = set()\n",
    "    mst = []\n",
    "    min_heap = [(0, start_node, None)]  \n",
    "    \n",
    "    while min_heap:\n",
    "        weight, node, parent = heapq.heappop(min_heap)\n",
    "        \n",
    "        if node not in visited:\n",
    "            visited.add(node)\n",
    "            if parent is not None:\n",
    "                mst.append((parent, node, weight))\n",
    "            \n",
    "            for neighbor, edge_weight in graph[node]:\n",
    "                if neighbor not in visited:\n",
    "                    heapq.heappush(min_heap, (edge_weight, neighbor, node))\n",
    "    \n",
    "    return mst\n",
    "\n",
    "def dijkstra(graph, start):\n",
    "    pq = [(0, start)]  \n",
    "    distances = {node: float('inf') for node in graph}\n",
    "    distances[start] = 0\n",
    "    previous_nodes = {node: None for node in graph}\n",
    "\n",
    "    while pq:\n",
    "        current_distance, current_node = heapq.heappop(pq)\n",
    "\n",
    "        if current_distance > distances[current_node]:\n",
    "            continue\n",
    "\n",
    "        for neighbor, weight in graph[current_node]:\n",
    "            distance = current_distance + weight\n",
    "            if distance < distances[neighbor]:\n",
    "                distances[neighbor] = distance\n",
    "                previous_nodes[neighbor] = current_node\n",
    "                heapq.heappush(pq, (distance, neighbor))\n",
    "    \n",
    "    return distances, previous_nodes\n",
    "\n",
    "def job_scheduling(jobs):\n",
    "    jobs.sort(key=lambda x: x[1])   \n",
    "    \n",
    "    selected_jobs = []\n",
    "    last_finish_time = -1\n",
    "    \n",
    "    for job in jobs:\n",
    "        if job[0] >= last_finish_time: \n",
    "            selected_jobs.append(job)\n",
    "            last_finish_time = job[1]\n",
    "    \n",
    "    return selected_jobs\n",
    "\n",
    "class DisjointSet:\n",
    "    def __init__(self, n):  \n",
    "        self.parent = list(range(n))\n",
    "        self.rank = [0] * n\n",
    "    \n",
    "    def find(self, u):\n",
    "        if self.parent[u] != u:\n",
    "            self.parent[u] = self.find(self.parent[u])\n",
    "        return self.parent[u]\n",
    "    \n",
    "    def union(self, u, v):\n",
    "        root_u = self.find(u)\n",
    "        root_v = self.find(v)\n",
    "        \n",
    "        if root_u != root_v:\n",
    "            if self.rank[root_u] > self.rank[root_v]:\n",
    "                self.parent[root_v] = root_u\n",
    "            elif self.rank[root_u] < self.rank[root_v]:\n",
    "                self.parent[root_u] = root_v\n",
    "            else:\n",
    "                self.parent[root_v] = root_u\n",
    "                self.rank[root_u] += 1\n",
    "\n",
    "def kruskal_mst(edges, n):\n",
    "    ds = DisjointSet(n)\n",
    "    mst = []\n",
    "    edges.sort(key=lambda x: x[2]) \n",
    "    \n",
    "    for u, v, weight in edges:\n",
    "        if ds.find(u) != ds.find(v):\n",
    "            mst.append((u, v, weight))\n",
    "            ds.union(u, v)\n",
    "    \n",
    "    return mst\n",
    "\n",
    "def display_menu():\n",
    "    print(\"\\n--- Greedy Algorithm Menu ---\")\n",
    "    print(\"1. Selection Sort\")\n",
    "    print(\"2. Prim's Minimal Spanning Tree Algorithm\")\n",
    "    print(\"3. Dijkstra's Single-Source Shortest Path\")\n",
    "    print(\"4. Job Scheduling Problem\")\n",
    "    print(\"5. Kruskal's Minimal Spanning Tree Algorithm\")\n",
    "    print(\"6. Exit\")\n",
    "\n",
    "def main():\n",
    "    while True:\n",
    "        display_menu()\n",
    "        choice = int(input(\"\\nEnter your choice (1-6): \"))\n",
    "        \n",
    "        if choice == 1:\n",
    "            arr = list(map(int, input(\"Enter the array elements for Selection Sort (space separated): \").split()))\n",
    "            print(\"Selection Sort Result:\", selection_sort(arr))\n",
    "        \n",
    "        elif choice == 2:\n",
    "            n = int(input(\"\\nEnter the number of nodes for Prim's MST: \"))\n",
    "            graph_prim = {}\n",
    "            print(\"Enter the graph as pairs (node, [(neighbor, weight)]):\")\n",
    "            for _ in range(n):\n",
    "                node = input(\"Enter node: \")\n",
    "                edges = input(f\"Enter edges for {node} (format: neighbor1 weight1, neighbor2 weight2,...): \")\n",
    "                graph_prim[node] = []\n",
    "                for edge in edges.split(','):\n",
    "                    neighbor, weight = edge.split()\n",
    "                    graph_prim[node].append((neighbor, int(weight)))\n",
    "            print(\"Prim's MST:\", prim_mst(graph_prim))\n",
    "\n",
    "        elif choice == 3:\n",
    "            n = int(input(\"\\nEnter the number of nodes for Dijkstra's Shortest Path: \"))\n",
    "            graph_dijkstra = {}\n",
    "            print(\"Enter the graph as pairs (node, [(neighbor, weight)]):\")\n",
    "            for _ in range(n):\n",
    "                node = input(\"Enter node: \")\n",
    "                edges = input(f\"Enter edges for {node} (format: neighbor1 weight1, neighbor2 weight2,...): \")\n",
    "                graph_dijkstra[node] = []\n",
    "                for edge in edges.split(','):\n",
    "                    neighbor, weight = edge.split()\n",
    "                    graph_dijkstra[node].append((neighbor, int(weight)))\n",
    "            \n",
    "            start_node = input(\"Enter the start node for Dijkstra's Shortest Path: \")\n",
    "            distances, previous_nodes = dijkstra(graph_dijkstra, start_node)\n",
    "            print(\"Dijkstra's Shortest Path Distances:\", distances)\n",
    "            print(\"Dijkstra's Previous Nodes:\", previous_nodes)\n",
    "\n",
    "        elif choice == 4:\n",
    "            job_count = int(input(\"\\nEnter the number of jobs for Job Scheduling: \"))\n",
    "            jobs = []\n",
    "            for _ in range(job_count):\n",
    "                start, finish = map(int, input(\"Enter start and finish time for a job (space separated): \").split())\n",
    "                jobs.append((start, finish))\n",
    "            print(\"Job Scheduling Result:\", job_scheduling(jobs))\n",
    "\n",
    "        elif choice == 5:\n",
    "            edge_count = int(input(\"\\nEnter the number of edges for Kruskal's MST: \"))\n",
    "            edges = []\n",
    "            for _ in range(edge_count):\n",
    "                u, v, weight = map(int, input(\"Enter edge (u, v, weight) (space separated): \").split())\n",
    "                edges.append((u, v, weight))\n",
    "            \n",
    "            n = int(input(\"Enter the number of nodes in the graph: \"))\n",
    "            print(\"Kruskal's MST:\", kruskal_mst(edges, n))\n",
    "\n",
    "        elif choice == 6:\n",
    "            print(\"Exiting the program...\")\n",
    "            break\n",
    "\n",
    "        else:\n",
    "            print(\"Invalid choice! Please select a valid option.\")\n",
    "\n",
    "if __name__ == \"__main__\": \n",
    "    main()\n"
   ]
  },
  {
   "cell_type": "code",
   "execution_count": null,
   "id": "5566da09-0cc6-4304-826d-5dcf39427a4d",
   "metadata": {},
   "outputs": [],
   "source": []
  }
 ],
 "metadata": {
  "kernelspec": {
   "display_name": "Python 3 (ipykernel)",
   "language": "python",
   "name": "python3"
  },
  "language_info": {
   "codemirror_mode": {
    "name": "ipython",
    "version": 3
   },
   "file_extension": ".py",
   "mimetype": "text/x-python",
   "name": "python",
   "nbconvert_exporter": "python",
   "pygments_lexer": "ipython3",
   "version": "3.12.7"
  }
 },
 "nbformat": 4,
 "nbformat_minor": 5
}
