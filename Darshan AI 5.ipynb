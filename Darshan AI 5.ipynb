{
 "cells": [
  {
   "cell_type": "code",
   "execution_count": 1,
   "id": "ea73f840-5c70-4e60-b5f8-48ce09c7428a",
   "metadata": {},
   "outputs": [
    {
     "name": "stdout",
     "output_type": "stream",
     "text": [
      "******* Welcome to Food Shop, I am jagruti — your assistant today! *******\n",
      "\n"
     ]
    },
    {
     "name": "stdin",
     "output_type": "stream",
     "text": [
      "Can I know your good name:  jagruti\n"
     ]
    },
    {
     "name": "stdout",
     "output_type": "stream",
     "text": [
      "Hey jagruti! Great to see you here!!\n",
      "You're in the right place. I will help you book your dish and drinks.\n",
      "\n",
      "Here is your menu with prices:\n",
      "1. Pizza - ₹200\n",
      "2. Mango Juice - ₹70\n",
      "3. Apple Juice - ₹80\n",
      "\n"
     ]
    },
    {
     "name": "stdin",
     "output_type": "stream",
     "text": [
      "Please enter your choice (1, 2, or 3):  2\n"
     ]
    },
    {
     "name": "stdout",
     "output_type": "stream",
     "text": [
      "\n",
      "Thank you for choosing Mango Juice!\n",
      "\n",
      "Please give us some more information about you:\n"
     ]
    },
    {
     "name": "stdin",
     "output_type": "stream",
     "text": [
      "Enter your mobile number:  8055648522\n",
      "Enter your delivery address:  xfs,talegaon dhabade pune\n"
     ]
    },
    {
     "name": "stdout",
     "output_type": "stream",
     "text": [
      "\n",
      "Choose mode of payment:\n",
      "1. Online\n",
      "2. Cash on Delivery\n"
     ]
    },
    {
     "name": "stdin",
     "output_type": "stream",
     "text": [
      "Enter choice (1 or 2):  1\n"
     ]
    },
    {
     "name": "stdout",
     "output_type": "stream",
     "text": [
      "\n",
      "******** Order Summary ********\n",
      "Customer Name : jagruti\n",
      "Product Name  : Mango Juice\n",
      "Price         : ₹70\n",
      "Payment Mode  : Online\n",
      "Delivery Addr : xfs,talegaon dhabade pune\n",
      "\n"
     ]
    },
    {
     "name": "stdin",
     "output_type": "stream",
     "text": [
      "Please confirm your order (1 to confirm / 0 to cancel):  1\n"
     ]
    },
    {
     "name": "stdout",
     "output_type": "stream",
     "text": [
      "\n",
      "******* Your order is booked successfully! *******\n",
      "Thank you jagruti, we will deliver your Mango Juice soon.\n"
     ]
    }
   ],
   "source": [
    "def welcome():\n",
    "    print(\"******* Welcome to Food Shop, I am jagruti — your assistant today! *******\")\n",
    "    print()\n",
    "\n",
    "def info():\n",
    "    global name\n",
    "    name = input(\"Can I know your good name: \")\n",
    "    print(f\"Hey {name}! Great to see you here!!\")\n",
    "    print(\"You're in the right place. I will help you book your dish and drinks.\")\n",
    "    print()\n",
    "\n",
    "def menu():\n",
    "    print(\"Here is your menu with prices:\")\n",
    "    print(\"1. Pizza - ₹200\")\n",
    "    print(\"2. Mango Juice - ₹70\")\n",
    "    print(\"3. Apple Juice - ₹80\")\n",
    "    print()\n",
    "\n",
    "def order(price, product):\n",
    "    print()\n",
    "    print(f\"Thank you for choosing {product}!\")\n",
    "    print()\n",
    "\n",
    "    print(\"Please give us some more information about you:\")\n",
    "    mob = input(\"Enter your mobile number: \")\n",
    "    # Ensure mobile number is valid (assuming 10-digit format)\n",
    "    while len(mob) != 10 or not mob.isdigit():\n",
    "        print(\"Invalid mobile number. Please enter a 10-digit number.\")\n",
    "        mob = input(\"Enter your mobile number: \")\n",
    "        \n",
    "    address = input(\"Enter your delivery address: \")\n",
    "\n",
    "    print(\"\\nChoose mode of payment:\")\n",
    "    print(\"1. Online\")\n",
    "    print(\"2. Cash on Delivery\")\n",
    "    \n",
    "    pay = input(\"Enter choice (1 or 2): \")\n",
    "    while pay not in [\"1\", \"2\"]:\n",
    "        print(\"Invalid choice. Please choose 1 for Online or 2 for Cash on Delivery.\")\n",
    "        pay = input(\"Enter choice (1 or 2): \")\n",
    "\n",
    "    payment_mode = \"Online\" if pay == \"1\" else \"Cash on Delivery\"\n",
    "\n",
    "    print()\n",
    "    print(\"******** Order Summary ********\")\n",
    "    print(f\"Customer Name : {name}\")\n",
    "    print(f\"Product Name  : {product}\")\n",
    "    print(f\"Price         : ₹{price}\")\n",
    "    print(f\"Payment Mode  : {payment_mode}\")\n",
    "    print(f\"Delivery Addr : {address}\")\n",
    "    print()\n",
    "\n",
    "    confirm = input(\"Please confirm your order (1 to confirm / 0 to cancel): \")\n",
    "    if confirm == \"1\":\n",
    "        print()\n",
    "        print(\"******* Your order is booked successfully! *******\")\n",
    "        print(f\"Thank you {name}, we will deliver your {product} soon.\")\n",
    "    else:\n",
    "        print(\"Order cancelled. Hope to see you again!\")\n",
    "\n",
    "# --------------------------\n",
    "# Main Program Execution\n",
    "# --------------------------\n",
    "welcome()\n",
    "info()\n",
    "menu()\n",
    "\n",
    "# Let user choose item\n",
    "while True:\n",
    "    choice = input(\"Please enter your choice (1, 2, or 3): \")\n",
    "    \n",
    "    if choice == \"1\":\n",
    "        order(200, \"Pizza\")\n",
    "        break\n",
    "    elif choice == \"2\":\n",
    "        order(70, \"Mango Juice\")\n",
    "        break\n",
    "    elif choice == \"3\":\n",
    "        order(80, \"Apple Juice\")\n",
    "        break\n",
    "    else:\n",
    "        print(\"Invalid choice! Please choose 1, 2, or 3.\")\n"
   ]
  },
  {
   "cell_type": "code",
   "execution_count": null,
   "id": "86f41878-77af-49f9-a9dd-7ac7e009ff79",
   "metadata": {},
   "outputs": [],
   "source": []
  }
 ],
 "metadata": {
  "kernelspec": {
   "display_name": "Python 3 (ipykernel)",
   "language": "python",
   "name": "python3"
  },
  "language_info": {
   "codemirror_mode": {
    "name": "ipython",
    "version": 3
   },
   "file_extension": ".py",
   "mimetype": "text/x-python",
   "name": "python",
   "nbconvert_exporter": "python",
   "pygments_lexer": "ipython3",
   "version": "3.12.7"
  }
 },
 "nbformat": 4,
 "nbformat_minor": 5
}
